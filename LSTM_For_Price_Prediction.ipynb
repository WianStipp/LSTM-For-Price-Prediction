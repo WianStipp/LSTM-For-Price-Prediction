{
  "nbformat": 4,
  "nbformat_minor": 0,
  "metadata": {
    "colab": {
      "name": "LSTM For Price Prediction.ipynb",
      "provenance": [],
      "collapsed_sections": [],
      "toc_visible": true,
      "include_colab_link": true
    },
    "kernelspec": {
      "name": "python3",
      "display_name": "Python 3"
    },
    "accelerator": "GPU"
  },
  "cells": [
    {
      "cell_type": "markdown",
      "metadata": {
        "id": "view-in-github",
        "colab_type": "text"
      },
      "source": [
        "<a href=\"https://colab.research.google.com/github/WianStipp/LSTM-For-Price-Prediction/blob/master/LSTM_For_Price_Prediction.ipynb\" target=\"_parent\"><img src=\"https://colab.research.google.com/assets/colab-badge.svg\" alt=\"Open In Colab\"/></a>"
      ]
    },
    {
      "cell_type": "markdown",
      "metadata": {
        "id": "d0xy3eTnk2JX",
        "colab_type": "text"
      },
      "source": [
        "# Data Science Incubator\n",
        "\n",
        "## LSTM For Price Prediction - BTCUSD"
      ]
    },
    {
      "cell_type": "markdown",
      "metadata": {
        "id": "PN5P50zJE_UO",
        "colab_type": "text"
      },
      "source": [
        "## Preprocessing"
      ]
    },
    {
      "cell_type": "markdown",
      "metadata": {
        "id": "Q0cqc5ocpTF3",
        "colab_type": "text"
      },
      "source": [
        "We are going to follow a method similar to that in the Google tutorial because I think it is well layed out, consistent and easy to follow. That means if you don't understand something here, maybe check out the Google link since they may have more details there (and explanations). https://www.tensorflow.org/tutorials/structured_data/time_series#the_weather_dataset\n",
        "\n",
        "As usual let's start by importing the required packages. We can also import the data and save it as a pandas dataframe. We have the data saved in a GitHib repository and can import it directly."
      ]
    },
    {
      "cell_type": "code",
      "metadata": {
        "id": "MneFTUcp3dEm",
        "colab_type": "code",
        "colab": {}
      },
      "source": [
        "%tensorflow_version 2.x\n",
        "import tensorflow as tf\n",
        "import os\n",
        "import pandas as pd\n",
        "import numpy as np\n",
        "import matplotlib.pyplot as plt"
      ],
      "execution_count": 0,
      "outputs": []
    },
    {
      "cell_type": "code",
      "metadata": {
        "id": "CkcKm0gf3eXL",
        "colab_type": "code",
        "colab": {}
      },
      "source": [
        "url = 'https://raw.githubusercontent.com/WianStipp/LSTM-For-Price-Prediction/master/data/BTCUSD.csv'\n",
        "dataframe = pd.read_csv(url, header=None, index_col=0)"
      ],
      "execution_count": 0,
      "outputs": []
    },
    {
      "cell_type": "markdown",
      "metadata": {
        "id": "93LdfnG2BG7-",
        "colab_type": "text"
      },
      "source": [
        "Let's use a GPU.\n",
        "\n",
        "Google Colab offers free GPUs and TPUs! It's best to take advantage of this (in this case we'll attach a GPU), otherwise training will take a very long time.\n",
        "\n",
        "A GPU can be added by going to the menu and selecting:\n",
        "\n",
        "Edit -> Notebook Settings -> Add accelerator (GPU)\n",
        "\n",
        "Then run the following cell to confirm that the GPU is detected."
      ]
    },
    {
      "cell_type": "code",
      "metadata": {
        "id": "1iUnXIPmBNDX",
        "colab_type": "code",
        "colab": {
          "base_uri": "https://localhost:8080/",
          "height": 34
        },
        "outputId": "a75d2852-08d0-483a-acc0-1a86a4a9434d"
      },
      "source": [
        "device_name = tf.test.gpu_device_name()\n",
        "if device_name != '/device:GPU:0':\n",
        "  raise SystemError('GPU device not found')\n",
        "print('Found GPU at: {}'.format(device_name))"
      ],
      "execution_count": 58,
      "outputs": [
        {
          "output_type": "stream",
          "text": [
            "Found GPU at: /device:GPU:0\n"
          ],
          "name": "stdout"
        }
      ]
    },
    {
      "cell_type": "code",
      "metadata": {
        "id": "XIeHmnOHEmIx",
        "colab_type": "code",
        "colab": {
          "base_uri": "https://localhost:8080/",
          "height": 34
        },
        "outputId": "0d2b5703-95cd-429a-8ee6-2e54063e805b"
      },
      "source": [
        "dataframe.shape"
      ],
      "execution_count": 59,
      "outputs": [
        {
          "output_type": "execute_result",
          "data": {
            "text/plain": [
              "(24456, 1)"
            ]
          },
          "metadata": {
            "tags": []
          },
          "execution_count": 59
        }
      ]
    },
    {
      "cell_type": "code",
      "metadata": {
        "id": "5f-MGUfu4Z4D",
        "colab_type": "code",
        "colab": {
          "base_uri": "https://localhost:8080/",
          "height": 235
        },
        "outputId": "ff2a60ab-e6f7-4fa8-a966-15a5c6a3a3ce"
      },
      "source": [
        "dataframe.head()"
      ],
      "execution_count": 60,
      "outputs": [
        {
          "output_type": "execute_result",
          "data": {
            "text/html": [
              "<div>\n",
              "<style scoped>\n",
              "    .dataframe tbody tr th:only-of-type {\n",
              "        vertical-align: middle;\n",
              "    }\n",
              "\n",
              "    .dataframe tbody tr th {\n",
              "        vertical-align: top;\n",
              "    }\n",
              "\n",
              "    .dataframe thead th {\n",
              "        text-align: right;\n",
              "    }\n",
              "</style>\n",
              "<table border=\"1\" class=\"dataframe\">\n",
              "  <thead>\n",
              "    <tr style=\"text-align: right;\">\n",
              "      <th></th>\n",
              "      <th>1</th>\n",
              "    </tr>\n",
              "    <tr>\n",
              "      <th>0</th>\n",
              "      <th></th>\n",
              "    </tr>\n",
              "  </thead>\n",
              "  <tbody>\n",
              "    <tr>\n",
              "      <th>2017-01-29 06:00:00</th>\n",
              "      <td>924.93</td>\n",
              "    </tr>\n",
              "    <tr>\n",
              "      <th>2017-01-29 07:00:00</th>\n",
              "      <td>924.93</td>\n",
              "    </tr>\n",
              "    <tr>\n",
              "      <th>2017-01-29 08:00:00</th>\n",
              "      <td>924.26</td>\n",
              "    </tr>\n",
              "    <tr>\n",
              "      <th>2017-01-29 09:00:00</th>\n",
              "      <td>924.90</td>\n",
              "    </tr>\n",
              "    <tr>\n",
              "      <th>2017-01-29 10:00:00</th>\n",
              "      <td>924.45</td>\n",
              "    </tr>\n",
              "  </tbody>\n",
              "</table>\n",
              "</div>"
            ],
            "text/plain": [
              "                          1\n",
              "0                          \n",
              "2017-01-29 06:00:00  924.93\n",
              "2017-01-29 07:00:00  924.93\n",
              "2017-01-29 08:00:00  924.26\n",
              "2017-01-29 09:00:00  924.90\n",
              "2017-01-29 10:00:00  924.45"
            ]
          },
          "metadata": {
            "tags": []
          },
          "execution_count": 60
        }
      ]
    },
    {
      "cell_type": "code",
      "metadata": {
        "id": "Mhlvj3hc6Fhk",
        "colab_type": "code",
        "colab": {}
      },
      "source": [
        "dataframe = dataframe.rename(columns={1:\"open\"})"
      ],
      "execution_count": 0,
      "outputs": []
    },
    {
      "cell_type": "code",
      "metadata": {
        "id": "7E8abn6v-TIZ",
        "colab_type": "code",
        "colab": {
          "base_uri": "https://localhost:8080/",
          "height": 235
        },
        "outputId": "02cc6e16-5d4a-4525-f5fe-fc62ea880d57"
      },
      "source": [
        "dataframe.head()"
      ],
      "execution_count": 62,
      "outputs": [
        {
          "output_type": "execute_result",
          "data": {
            "text/html": [
              "<div>\n",
              "<style scoped>\n",
              "    .dataframe tbody tr th:only-of-type {\n",
              "        vertical-align: middle;\n",
              "    }\n",
              "\n",
              "    .dataframe tbody tr th {\n",
              "        vertical-align: top;\n",
              "    }\n",
              "\n",
              "    .dataframe thead th {\n",
              "        text-align: right;\n",
              "    }\n",
              "</style>\n",
              "<table border=\"1\" class=\"dataframe\">\n",
              "  <thead>\n",
              "    <tr style=\"text-align: right;\">\n",
              "      <th></th>\n",
              "      <th>open</th>\n",
              "    </tr>\n",
              "    <tr>\n",
              "      <th>0</th>\n",
              "      <th></th>\n",
              "    </tr>\n",
              "  </thead>\n",
              "  <tbody>\n",
              "    <tr>\n",
              "      <th>2017-01-29 06:00:00</th>\n",
              "      <td>924.93</td>\n",
              "    </tr>\n",
              "    <tr>\n",
              "      <th>2017-01-29 07:00:00</th>\n",
              "      <td>924.93</td>\n",
              "    </tr>\n",
              "    <tr>\n",
              "      <th>2017-01-29 08:00:00</th>\n",
              "      <td>924.26</td>\n",
              "    </tr>\n",
              "    <tr>\n",
              "      <th>2017-01-29 09:00:00</th>\n",
              "      <td>924.90</td>\n",
              "    </tr>\n",
              "    <tr>\n",
              "      <th>2017-01-29 10:00:00</th>\n",
              "      <td>924.45</td>\n",
              "    </tr>\n",
              "  </tbody>\n",
              "</table>\n",
              "</div>"
            ],
            "text/plain": [
              "                       open\n",
              "0                          \n",
              "2017-01-29 06:00:00  924.93\n",
              "2017-01-29 07:00:00  924.93\n",
              "2017-01-29 08:00:00  924.26\n",
              "2017-01-29 09:00:00  924.90\n",
              "2017-01-29 10:00:00  924.45"
            ]
          },
          "metadata": {
            "tags": []
          },
          "execution_count": 62
        }
      ]
    },
    {
      "cell_type": "code",
      "metadata": {
        "id": "7x_Y5aAS-L-g",
        "colab_type": "code",
        "colab": {}
      },
      "source": [
        "dataframe['datetime'] = pd.to_datetime(dataframe.index)\n",
        "dataframe = dataframe.set_index('datetime')"
      ],
      "execution_count": 0,
      "outputs": []
    },
    {
      "cell_type": "code",
      "metadata": {
        "id": "6QT4lg7W6Sx7",
        "colab_type": "code",
        "colab": {
          "base_uri": "https://localhost:8080/",
          "height": 235
        },
        "outputId": "fd80e935-0f6b-4c49-e3c8-e2fa5f0edf05"
      },
      "source": [
        "dataframe.head()"
      ],
      "execution_count": 64,
      "outputs": [
        {
          "output_type": "execute_result",
          "data": {
            "text/html": [
              "<div>\n",
              "<style scoped>\n",
              "    .dataframe tbody tr th:only-of-type {\n",
              "        vertical-align: middle;\n",
              "    }\n",
              "\n",
              "    .dataframe tbody tr th {\n",
              "        vertical-align: top;\n",
              "    }\n",
              "\n",
              "    .dataframe thead th {\n",
              "        text-align: right;\n",
              "    }\n",
              "</style>\n",
              "<table border=\"1\" class=\"dataframe\">\n",
              "  <thead>\n",
              "    <tr style=\"text-align: right;\">\n",
              "      <th></th>\n",
              "      <th>open</th>\n",
              "    </tr>\n",
              "    <tr>\n",
              "      <th>datetime</th>\n",
              "      <th></th>\n",
              "    </tr>\n",
              "  </thead>\n",
              "  <tbody>\n",
              "    <tr>\n",
              "      <th>2017-01-29 06:00:00</th>\n",
              "      <td>924.93</td>\n",
              "    </tr>\n",
              "    <tr>\n",
              "      <th>2017-01-29 07:00:00</th>\n",
              "      <td>924.93</td>\n",
              "    </tr>\n",
              "    <tr>\n",
              "      <th>2017-01-29 08:00:00</th>\n",
              "      <td>924.26</td>\n",
              "    </tr>\n",
              "    <tr>\n",
              "      <th>2017-01-29 09:00:00</th>\n",
              "      <td>924.90</td>\n",
              "    </tr>\n",
              "    <tr>\n",
              "      <th>2017-01-29 10:00:00</th>\n",
              "      <td>924.45</td>\n",
              "    </tr>\n",
              "  </tbody>\n",
              "</table>\n",
              "</div>"
            ],
            "text/plain": [
              "                       open\n",
              "datetime                   \n",
              "2017-01-29 06:00:00  924.93\n",
              "2017-01-29 07:00:00  924.93\n",
              "2017-01-29 08:00:00  924.26\n",
              "2017-01-29 09:00:00  924.90\n",
              "2017-01-29 10:00:00  924.45"
            ]
          },
          "metadata": {
            "tags": []
          },
          "execution_count": 64
        }
      ]
    },
    {
      "cell_type": "markdown",
      "metadata": {
        "id": "Fv2bOZqG4gq9",
        "colab_type": "text"
      },
      "source": [
        "Okay so we clearly have some clean time series data. We have hourly data from BTCUSD (Bitcoin vs USD) from 2017 until now! Let's plot it to get a better idea of what we're working with."
      ]
    },
    {
      "cell_type": "code",
      "metadata": {
        "id": "0jfI4cwH51Eh",
        "colab_type": "code",
        "colab": {
          "base_uri": "https://localhost:8080/",
          "height": 308
        },
        "outputId": "afb99dd4-d6fa-4ea0-d1fd-e9d85c95cf6e"
      },
      "source": [
        "dataframe.plot()"
      ],
      "execution_count": 65,
      "outputs": [
        {
          "output_type": "execute_result",
          "data": {
            "text/plain": [
              "<matplotlib.axes._subplots.AxesSubplot at 0x7f57e00bb828>"
            ]
          },
          "metadata": {
            "tags": []
          },
          "execution_count": 65
        },
        {
          "output_type": "display_data",
          "data": {
            "image/png": "[encoded data removed]",
            "text/plain": [
              "<Figure size 432x288 with 1 Axes>"
            ]
          },
          "metadata": {
            "tags": []
          }
        }
      ]
    },
    {
      "cell_type": "markdown",
      "metadata": {
        "id": "3TsMFEiY52O7",
        "colab_type": "text"
      },
      "source": [
        "We want to convert the dataframe into returns rather than the actual price values."
      ]
    },
    {
      "cell_type": "code",
      "metadata": {
        "id": "KrtBX1h_9sZp",
        "colab_type": "code",
        "colab": {}
      },
      "source": [
        "dataframe_pct = (dataframe / dataframe.shift(1) - 1)"
      ],
      "execution_count": 0,
      "outputs": []
    },
    {
      "cell_type": "code",
      "metadata": {
        "id": "nN2MQl_o9wJf",
        "colab_type": "code",
        "colab": {
          "base_uri": "https://localhost:8080/",
          "height": 308
        },
        "outputId": "279c5cb4-19d6-4cd3-bc2f-9fe6b6bf57ff"
      },
      "source": [
        "dataframe_pct.plot()"
      ],
      "execution_count": 67,
      "outputs": [
        {
          "output_type": "execute_result",
          "data": {
            "text/plain": [
              "<matplotlib.axes._subplots.AxesSubplot at 0x7f57e00bbb38>"
            ]
          },
          "metadata": {
            "tags": []
          },
          "execution_count": 67
        },
        {
          "output_type": "display_data",
          "data": {
            "image/png": "[encoded data removed]",
            "text/plain": [
              "<Figure size 432x288 with 1 Axes>"
            ]
          },
          "metadata": {
            "tags": []
          }
        }
      ]
    },
    {
      "cell_type": "markdown",
      "metadata": {
        "id": "GiVgwBGQAni6",
        "colab_type": "text"
      },
      "source": [
        "There seems to be a data error. Let's get rid of it. You might also want to think about writing a function to check for any other problems."
      ]
    },
    {
      "cell_type": "code",
      "metadata": {
        "id": "Yr3-apf1_zN7",
        "colab_type": "code",
        "colab": {
          "base_uri": "https://localhost:8080/",
          "height": 34
        },
        "outputId": "e196dd0a-7943-4f50-99b6-2d88a8bc79f9"
      },
      "source": [
        "dataframe_pct[1:].values.argmax()"
      ],
      "execution_count": 68,
      "outputs": [
        {
          "output_type": "execute_result",
          "data": {
            "text/plain": [
              "1842"
            ]
          },
          "metadata": {
            "tags": []
          },
          "execution_count": 68
        }
      ]
    },
    {
      "cell_type": "code",
      "metadata": {
        "id": "Hs4eTtCNAEbU",
        "colab_type": "code",
        "colab": {}
      },
      "source": [
        "dataframe_pct.iloc[1842] = dataframe_pct.iloc[1841]\n",
        "dataframe_pct.iloc[1843] = dataframe_pct.iloc[1842]"
      ],
      "execution_count": 0,
      "outputs": []
    },
    {
      "cell_type": "code",
      "metadata": {
        "id": "VDlbm-RfAVHR",
        "colab_type": "code",
        "colab": {
          "base_uri": "https://localhost:8080/",
          "height": 308
        },
        "outputId": "17da5f10-3178-4036-a70a-a36394ba7e19"
      },
      "source": [
        "dataframe_pct = dataframe_pct[1:]\n",
        "dataframe_pct.plot()"
      ],
      "execution_count": 70,
      "outputs": [
        {
          "output_type": "execute_result",
          "data": {
            "text/plain": [
              "<matplotlib.axes._subplots.AxesSubplot at 0x7f57e0c05940>"
            ]
          },
          "metadata": {
            "tags": []
          },
          "execution_count": 70
        },
        {
          "output_type": "display_data",
          "data": {
            "image/png": "[encoded data removed]",
            "text/plain": [
              "<Figure size 432x288 with 1 Axes>"
            ]
          },
          "metadata": {
            "tags": []
          }
        }
      ]
    },
    {
      "cell_type": "markdown",
      "metadata": {
        "id": "wGCkN_3UA6c_",
        "colab_type": "text"
      },
      "source": [
        "Much better!"
      ]
    },
    {
      "cell_type": "markdown",
      "metadata": {
        "id": "tvakuQFlBAT2",
        "colab_type": "text"
      },
      "source": [
        "Let's use the function from the Google tutorial to split our data into windows which will be fed in to the model."
      ]
    },
    {
      "cell_type": "code",
      "metadata": {
        "id": "51WXbD-XBhVX",
        "colab_type": "code",
        "colab": {}
      },
      "source": [
        "def univariate_data(dataset, start_index, end_index, history_size, target_size):\n",
        "  data = []\n",
        "  labels = []\n",
        "\n",
        "  start_index = start_index + history_size\n",
        "  if end_index is None:\n",
        "    end_index = len(dataset) - target_size\n",
        "\n",
        "  for i in range(start_index, end_index):\n",
        "    indices = range(i-history_size, i)\n",
        "    # Reshape data from (history_size,) to (history_size, 1)\n",
        "    data.append(np.reshape(dataset[indices], (history_size, 1)))\n",
        "    labels.append(dataset[i+target_size])\n",
        "  return np.array(data), np.array(labels)"
      ],
      "execution_count": 0,
      "outputs": []
    },
    {
      "cell_type": "code",
      "metadata": {
        "id": "lQg8X8UlBhwW",
        "colab_type": "code",
        "colab": {
          "base_uri": "https://localhost:8080/",
          "height": 34
        },
        "outputId": "21585b35-1a23-4a26-c515-e17b7fb7b738"
      },
      "source": [
        "TRAIN_SPLIT = dataframe_pct.shape[0] * 0.9\n",
        "TRAIN_SPLIT = round(TRAIN_SPLIT)\n",
        "print(TRAIN_SPLIT)"
      ],
      "execution_count": 72,
      "outputs": [
        {
          "output_type": "stream",
          "text": [
            "22010\n"
          ],
          "name": "stdout"
        }
      ]
    },
    {
      "cell_type": "code",
      "metadata": {
        "id": "dBfbNvUMBuRi",
        "colab_type": "code",
        "colab": {}
      },
      "source": [
        "tf.random.set_seed(13)"
      ],
      "execution_count": 0,
      "outputs": []
    },
    {
      "cell_type": "markdown",
      "metadata": {
        "id": "W1Cs31O3CHFS",
        "colab_type": "text"
      },
      "source": [
        "Let's now start working with numpy arrays because they are going to be more useful to do calculations with."
      ]
    },
    {
      "cell_type": "code",
      "metadata": {
        "id": "KDh2kqwhB-5x",
        "colab_type": "code",
        "colab": {}
      },
      "source": [
        "data = dataframe_pct.values"
      ],
      "execution_count": 0,
      "outputs": []
    },
    {
      "cell_type": "code",
      "metadata": {
        "id": "mIAEJTvkCa3q",
        "colab_type": "code",
        "colab": {}
      },
      "source": [
        "past_history = 20\n",
        "future_target = 0\n",
        "\n",
        "X_train, y_train = univariate_data(data,\n",
        "                                           0, TRAIN_SPLIT,\n",
        "                                           past_history,\n",
        "                                           future_target)\n",
        "\n",
        "X_val, y_val = univariate_data(data, TRAIN_SPLIT, None,\n",
        "                                       past_history,\n",
        "                                       future_target)"
      ],
      "execution_count": 0,
      "outputs": []
    },
    {
      "cell_type": "code",
      "metadata": {
        "id": "o7YbfLeBC1Tt",
        "colab_type": "code",
        "colab": {
          "base_uri": "https://localhost:8080/",
          "height": 34
        },
        "outputId": "326118b3-5ead-49e4-acdf-b56cc31ee3be"
      },
      "source": [
        "print(X_train.shape,\"<- X, Y-> \", y_train.shape)"
      ],
      "execution_count": 76,
      "outputs": [
        {
          "output_type": "stream",
          "text": [
            "(21990, 20, 1) <- X, Y->  (21990, 1)\n"
          ],
          "name": "stdout"
        }
      ]
    },
    {
      "cell_type": "markdown",
      "metadata": {
        "id": "BstVQ3CqDBBn",
        "colab_type": "text"
      },
      "source": [
        "This is what the univariate data returns looks like:"
      ]
    },
    {
      "cell_type": "code",
      "metadata": {
        "id": "ND8v6hMaDp0r",
        "colab_type": "code",
        "colab": {
          "base_uri": "https://localhost:8080/",
          "height": 425
        },
        "outputId": "c30c3413-8380-40f9-87d9-3f9ff4769ef7"
      },
      "source": [
        "print ('Single window of past history')\n",
        "print (x_train[0])\n",
        "print ('\\n Target temperature to predict')\n",
        "print (y_train[0])"
      ],
      "execution_count": 77,
      "outputs": [
        {
          "output_type": "stream",
          "text": [
            "Single window of past history\n",
            "[[ 0.        ]\n",
            " [-0.00072438]\n",
            " [ 0.00069245]\n",
            " [-0.00048654]\n",
            " [ 0.00057331]\n",
            " [-0.00090813]\n",
            " [ 0.00075746]\n",
            " [-0.00151378]\n",
            " [-0.00014078]\n",
            " [-0.00128884]\n",
            " [-0.00023858]\n",
            " [ 0.00053151]\n",
            " [-0.00259109]\n",
            " [-0.00398913]\n",
            " [ 0.00147327]\n",
            " [ 0.00226659]\n",
            " [ 0.00033704]\n",
            " [-0.00235852]\n",
            " [-0.00110034]\n",
            " [-0.00082889]]\n",
            "\n",
            " Target temperature to predict\n",
            "[-0.00068768]\n"
          ],
          "name": "stdout"
        }
      ]
    },
    {
      "cell_type": "markdown",
      "metadata": {
        "id": "jMHbfs26DsDS",
        "colab_type": "text"
      },
      "source": [
        "Let's take the awesome function from the Google tutorial with which we can visualise what we need to predict."
      ]
    },
    {
      "cell_type": "code",
      "metadata": {
        "id": "AVf14mATEFu6",
        "colab_type": "code",
        "colab": {}
      },
      "source": [
        "def create_time_steps(length):\n",
        "  time_steps = []\n",
        "  for i in range(-length, 0, 1):\n",
        "    time_steps.append(i)\n",
        "  return time_steps"
      ],
      "execution_count": 0,
      "outputs": []
    },
    {
      "cell_type": "code",
      "metadata": {
        "id": "8dpLnsFQENyY",
        "colab_type": "code",
        "colab": {}
      },
      "source": [
        "def show_plot(plot_data, delta, title):\n",
        "  labels = ['History', 'True Future', 'Model Prediction']\n",
        "  marker = ['.-', 'rx', 'go']\n",
        "  time_steps = create_time_steps(plot_data[0].shape[0])\n",
        "  if delta:\n",
        "    future = delta\n",
        "  else:\n",
        "    future = 0\n",
        "\n",
        "  plt.title(title)\n",
        "  for i, x in enumerate(plot_data):\n",
        "    if i:\n",
        "      plt.plot(future, plot_data[i], marker[i], markersize=10,\n",
        "               label=labels[i])\n",
        "    else:\n",
        "      plt.plot(time_steps, plot_data[i].flatten(), marker[i], label=labels[i])\n",
        "  plt.legend()\n",
        "  plt.xlim([time_steps[0], (future+5)*2])\n",
        "  plt.xlabel('Time-Step')\n",
        "  return plt"
      ],
      "execution_count": 0,
      "outputs": []
    },
    {
      "cell_type": "code",
      "metadata": {
        "id": "mYJRe9GdEOv7",
        "colab_type": "code",
        "colab": {
          "base_uri": "https://localhost:8080/",
          "height": 295
        },
        "outputId": "885937cc-96df-4c1c-a33e-f6bd1900e74d"
      },
      "source": [
        "show_plot([X_train[0], y_train[0]], 0, 'Sample Example')\n",
        "plt.show()"
      ],
      "execution_count": 80,
      "outputs": [
        {
          "output_type": "display_data",
          "data": {
            "image/png": "[encoded data removed]",
            "text/plain": [
              "<Figure size 432x288 with 1 Axes>"
            ]
          },
          "metadata": {
            "tags": []
          }
        }
      ]
    },
    {
      "cell_type": "code",
      "metadata": {
        "id": "JkLnK9WWER8z",
        "colab_type": "code",
        "colab": {
          "base_uri": "https://localhost:8080/",
          "height": 34
        },
        "outputId": "613517f4-23c9-41f4-ae74-3030300c35be"
      },
      "source": [
        "X_train.reshape(-1,1).shape"
      ],
      "execution_count": 81,
      "outputs": [
        {
          "output_type": "execute_result",
          "data": {
            "text/plain": [
              "(439800, 1)"
            ]
          },
          "metadata": {
            "tags": []
          },
          "execution_count": 81
        }
      ]
    },
    {
      "cell_type": "markdown",
      "metadata": {
        "id": "FvRd_zxCEb1D",
        "colab_type": "text"
      },
      "source": [
        "Let's first build a baseline model"
      ]
    },
    {
      "cell_type": "markdown",
      "metadata": {
        "id": "dihiRdk0E6us",
        "colab_type": "text"
      },
      "source": [
        "## Baseline"
      ]
    },
    {
      "cell_type": "code",
      "metadata": {
        "id": "F6ng5OAxE8Wh",
        "colab_type": "code",
        "colab": {}
      },
      "source": [
        "def baseline(history):\n",
        "  return np.mean(history)"
      ],
      "execution_count": 0,
      "outputs": []
    },
    {
      "cell_type": "code",
      "metadata": {
        "id": "4jxlAS2XFTkZ",
        "colab_type": "code",
        "colab": {
          "base_uri": "https://localhost:8080/",
          "height": 312
        },
        "outputId": "f8b77ed2-3d7e-4051-af6f-830eb34af48a"
      },
      "source": [
        "show_plot([X_train[0], y_train[0], baseline(X_train[0])], 0,\n",
        "           'Baseline Prediction Example')"
      ],
      "execution_count": 83,
      "outputs": [
        {
          "output_type": "execute_result",
          "data": {
            "text/plain": [
              "<module 'matplotlib.pyplot' from '/usr/local/lib/python3.6/dist-packages/matplotlib/pyplot.py'>"
            ]
          },
          "metadata": {
            "tags": []
          },
          "execution_count": 83
        },
        {
          "output_type": "display_data",
          "data": {
            "image/png": "[encoded data removed]",
            "text/plain": [
              "<Figure size 432x288 with 1 Axes>"
            ]
          },
          "metadata": {
            "tags": []
          }
        }
      ]
    },
    {
      "cell_type": "code",
      "metadata": {
        "id": "_GB-1QbGFXvI",
        "colab_type": "code",
        "colab": {
          "base_uri": "https://localhost:8080/",
          "height": 312
        },
        "outputId": "c6eb0ac1-271a-4a3f-a82d-19853d0879d4"
      },
      "source": [
        "show_plot([X_train[1], y_train[1], baseline(X_train[1])], 0,\n",
        "           'Baseline Prediction Example')"
      ],
      "execution_count": 92,
      "outputs": [
        {
          "output_type": "execute_result",
          "data": {
            "text/plain": [
              "<module 'matplotlib.pyplot' from '/usr/local/lib/python3.6/dist-packages/matplotlib/pyplot.py'>"
            ]
          },
          "metadata": {
            "tags": []
          },
          "execution_count": 92
        },
        {
          "output_type": "display_data",
          "data": {
            "image/png": "[encoded data removed]",
            "text/plain": [
              "<Figure size 432x288 with 1 Axes>"
            ]
          },
          "metadata": {
            "tags": []
          }
        }
      ]
    },
    {
      "cell_type": "code",
      "metadata": {
        "id": "ez4wQqdrFciD",
        "colab_type": "code",
        "colab": {}
      },
      "source": [
        ""
      ],
      "execution_count": 0,
      "outputs": []
    }
  ]
}